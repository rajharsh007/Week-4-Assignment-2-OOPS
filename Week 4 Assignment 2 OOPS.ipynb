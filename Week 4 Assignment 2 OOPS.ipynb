{
 "cells": [
  {
   "cell_type": "markdown",
   "id": "f84034e5-bc37-44ec-8766-10899c6d461b",
   "metadata": {},
   "source": [
    "#### Q1. What is Abstraction in OOps? Explain with an example."
   ]
  },
  {
   "cell_type": "markdown",
   "id": "5c24091d-62a0-471c-a08a-98d44e942615",
   "metadata": {},
   "source": [
    "#### Ans:- Abstraction in object-oriented programming (OOP) refers to the concept of simplifying complex reality by modeling classes based on their essential characteristics and ignoring irrelevant details. It involves creating a blueprint for a class that defines its properties (attributes) and behaviors (methods) without necessarily implementing all the specifics of how those properties and behaviors are implemented. Abstraction helps in managing complexity, enhancing code reusability, and improving the overall maintainability of software systems.\n",
    "\n",
    "#### An example to illustrate abstraction could be a \"Vehicle\" class."
   ]
  },
  {
   "cell_type": "code",
   "execution_count": 1,
   "id": "d401fba4-2305-4f71-b86d-578414d2b133",
   "metadata": {},
   "outputs": [],
   "source": [
    "class Vehicle:\n",
    "    def __init__(self, make, model):\n",
    "        self.make = make\n",
    "        self.model = model\n",
    "\n",
    "    def start_engine(self):\n",
    "        pass  # This method will be implemented in subclasses\n",
    "\n",
    "    def accelerate(self):\n",
    "        pass\n",
    "\n",
    "    def brake(self):\n",
    "        pass\n"
   ]
  },
  {
   "cell_type": "markdown",
   "id": "53198a75-4aa0-43ad-ba07-5b8a105c6338",
   "metadata": {},
   "source": [
    "#### Now, if we want to create specific types of vehicles that inherit from the \"Vehicle\" class and provide their own implementations for the abstract methods, we can do that. For instance, let's create a \"Car\" class:"
   ]
  },
  {
   "cell_type": "code",
   "execution_count": 2,
   "id": "dc2ca8e0-bc3b-4a80-9afe-318aa4048a95",
   "metadata": {},
   "outputs": [],
   "source": [
    "class Car(Vehicle):\n",
    "    def start_engine(self):\n",
    "        print(\"Car engine started\")\n",
    "\n",
    "    def accelerate(self):\n",
    "        print(\"Car accelerating\")\n",
    "\n",
    "    def brake(self):\n",
    "        print(\"Car braking\")\n"
   ]
  },
  {
   "cell_type": "markdown",
   "id": "111edbaa-b8e6-4cd4-b553-a5c535b76cb1",
   "metadata": {},
   "source": [
    "#### Q2. Differentiate between Abstraction and Encapsulation. Explain with an example."
   ]
  },
  {
   "cell_type": "markdown",
   "id": "0f915356-9e33-4583-beaa-3feb66faf75c",
   "metadata": {},
   "source": [
    "#### Ans:- Abstraction:\n",
    "#### Abstraction is about simplifying complex reality by defining the essential attributes and behaviors of an object while ignoring the irrelevant details. It involves creating a high-level blueprint that represents the common characteristics of a group of related objects. Abstraction helps in managing complexity and providing a clear interface for interacting with objects.\n",
    "\n",
    "#### Encapsulation:\n",
    "#### Encapsulation is the practice of bundling data (attributes) and the methods (functions) that operate on the data into a single unit, known as a class. It restricts direct access to the internal details of an object and enforces interaction only through well-defined methods. Encapsulation helps in hiding the internal complexities of an object and controlling its behavior."
   ]
  },
  {
   "cell_type": "markdown",
   "id": "32c166b4-8220-4269-baa9-fdc80aaa87a1",
   "metadata": {},
   "source": [
    "#### Abstraction: In abstraction, we define what a \"Bank Account\" is in a generalized manner, focusing on the essential characteristics and behaviors it should have:"
   ]
  },
  {
   "cell_type": "code",
   "execution_count": 3,
   "id": "555443b9-7c52-45c5-a9ce-37f67336be01",
   "metadata": {},
   "outputs": [],
   "source": [
    "class BankAccount:\n",
    "    def __init__(self, account_number, balance):\n",
    "        self.account_number = account_number\n",
    "        self.balance = balance\n",
    "\n",
    "    def deposit(self, amount):\n",
    "        pass\n",
    "\n",
    "    def withdraw(self, amount):\n",
    "        pass\n"
   ]
  },
  {
   "cell_type": "markdown",
   "id": "b64d8e15-c283-4700-b6e0-6573083c2289",
   "metadata": {},
   "source": [
    "#### Encapsulation: Encapsulation involves bundling the attributes and methods together into a class while controlling access to them. Here's how encapsulation might look for the \"BankAccount\" class:"
   ]
  },
  {
   "cell_type": "code",
   "execution_count": 4,
   "id": "09ffb820-8481-49dc-a9d8-705590817b48",
   "metadata": {},
   "outputs": [],
   "source": [
    "class BankAccount:\n",
    "    def __init__(self, account_number, balance):\n",
    "        self.account_number = account_number\n",
    "        self.balance = balance\n",
    "\n",
    "    def deposit(self, amount):\n",
    "        if amount > 0:\n",
    "            self.balance += amount\n",
    "\n",
    "    def withdraw(self, amount):\n",
    "        if 0 < amount <= self.balance:\n",
    "            self.balance -= amount\n"
   ]
  },
  {
   "cell_type": "markdown",
   "id": "74d4dead-c33b-415f-89b9-0417a62d6eea",
   "metadata": {},
   "source": [
    "#### Q3. What is abc module in python? Why is it used?"
   ]
  },
  {
   "cell_type": "markdown",
   "id": "574c8bd6-0608-4dd3-b2fd-ba28e8b40d96",
   "metadata": {},
   "source": [
    "#### Ans:- The abc module in Python stands for \"Abstract Base Classes.\" It provides a mechanism for defining abstract base classes, which are classes that cannot be instantiated themselves but are meant to be subclassed by other classes. Abstract base classes are used to define a common interface or set of methods that derived classes are expected to implement.\n",
    "\n",
    "#### The primary purpose of the abc module is to enforce a certain structure and behavior in subclasses, ensuring that they adhere to a specific contract or interface. By defining abstract methods in an abstract base class, you can ensure that subclasses provide concrete implementations for these methods. This helps in creating consistent and predictable class hierarchies and facilitates code maintenance, as well as making it easier to understand the intended usage of various classes in a complex system.\n",
    "\n",
    "#### The abc module is often used for the following reasons:\n",
    "\n",
    "#### Interface Enforcement: Abstract base classes define a common interface that derived classes must follow. This helps in designing code with clear contracts and ensuring that certain methods or behaviors are consistently implemented across subclasses.\n",
    "\n",
    "#### Code Organization: By grouping related classes under a common abstract base class, you can improve code organization and readability. This also encourages code reuse and       modularity.\n",
    "\n",
    "#### Documentation and Communication: Abstract base classes serve as documentation for how derived classes are expected to behave. They communicate the intended design and usage of the classes to other developers.\n",
    "\n",
    "#### Runtime Checks: Abstract base classes can provide runtime checks to ensure that derived classes have implemented the required methods. This helps catch errors early in the development process.\n",
    "\n",
    "\n",
    "\n",
    "\n",
    "\n"
   ]
  },
  {
   "cell_type": "code",
   "execution_count": 5,
   "id": "5a08f40c-bf6d-4f94-b178-38cb46aa7b9a",
   "metadata": {},
   "outputs": [
    {
     "name": "stdout",
     "output_type": "stream",
     "text": [
      "Circle area: 78.5\n",
      "Rectangle area: 24\n"
     ]
    }
   ],
   "source": [
    "from abc import ABC, abstractmethod\n",
    "\n",
    "class Shape(ABC):\n",
    "    @abstractmethod\n",
    "    def area(self):\n",
    "        pass\n",
    "\n",
    "class Circle(Shape):\n",
    "    def __init__(self, radius):\n",
    "        self.radius = radius\n",
    "\n",
    "    def area(self):\n",
    "        return 3.14 * self.radius * self.radius\n",
    "\n",
    "class Rectangle(Shape):\n",
    "    def __init__(self, width, height):\n",
    "        self.width = width\n",
    "        self.height = height\n",
    "\n",
    "    def area(self):\n",
    "        return self.width * self.height\n",
    "\n",
    "# This would raise an error since Square does not provide an implementation for 'area'\n",
    "class Square(Shape):\n",
    "    def __init__(self, side):\n",
    "        self.side = side\n",
    "\n",
    "# Instantiate and use the classes\n",
    "circle = Circle(5)\n",
    "rectangle = Rectangle(4, 6)\n",
    "\n",
    "print(\"Circle area:\", circle.area())\n",
    "print(\"Rectangle area:\", rectangle.area())\n"
   ]
  },
  {
   "cell_type": "markdown",
   "id": "fe0dea7f-a5da-466b-a604-451d34580b60",
   "metadata": {},
   "source": [
    "#### Q4. How can we achieve data abstraction?"
   ]
  },
  {
   "cell_type": "markdown",
   "id": "b3dfeca6-ed52-49c8-834c-8664f83447d3",
   "metadata": {},
   "source": [
    "#### Ans:- Data abstraction in programming is achieved through the concept of encapsulation, which is one of the fundamental principles of object-oriented programming (OOP). Encapsulation involves bundling data (attributes) and the methods (functions) that operate on the data into a single unit, known as a class. The idea is to restrict direct access to the internal details of an object and provide controlled interaction through well-defined methods.\n",
    "\n",
    "### Here's how you can achieve data abstraction in Python:\n",
    "\n",
    "#### Define a Class: Create a class that represents the abstract concept you want to model. This class should have attributes to store the data and methods to manipulate or access that data.\n",
    "\n",
    "#### Private Attributes: Use naming conventions to indicate that certain attributes are meant to be private (not accessed directly by external code). In Python, you can use a single leading underscore (e.g., _attribute_name) to indicate that an attribute is intended to be private. However, note that this is more of a convention; Python doesn't truly enforce privacy, but it signals to other developers that the attribute is not meant to be accessed directly.\n",
    "\n",
    "#### Getter and Setter Methods: Define methods (getter and setter methods) to access and modify the private attributes. Getter methods allow you to retrieve the values of private attributes, and setter methods allow you to modify their values. These methods provide a controlled way to interact with the data."
   ]
  },
  {
   "cell_type": "code",
   "execution_count": 6,
   "id": "99f4e61f-8327-41a8-abe8-0f3e019c1f66",
   "metadata": {},
   "outputs": [
    {
     "name": "stdout",
     "output_type": "stream",
     "text": [
      "Initial balance: 1000\n",
      "Balance after deposit: 1500\n",
      "Balance after withdrawal: 1300\n"
     ]
    }
   ],
   "source": [
    "class BankAccount:\n",
    "    def __init__(self, account_number, balance):\n",
    "        self._account_number = account_number  # Private attribute\n",
    "        self._balance = balance  # Private attribute\n",
    "\n",
    "    def get_balance(self):\n",
    "        return self._balance\n",
    "\n",
    "    def deposit(self, amount):\n",
    "        if amount > 0:\n",
    "            self._balance += amount\n",
    "\n",
    "    def withdraw(self, amount):\n",
    "        if 0 < amount <= self._balance:\n",
    "            self._balance -= amount\n",
    "\n",
    "# Create a BankAccount object\n",
    "account = BankAccount(\"12345\", 1000)\n",
    "\n",
    "# Access and modify data through abstraction methods\n",
    "print(\"Initial balance:\", account.get_balance())\n",
    "account.deposit(500)\n",
    "print(\"Balance after deposit:\", account.get_balance())\n",
    "account.withdraw(200)\n",
    "print(\"Balance after withdrawal:\", account.get_balance())\n"
   ]
  },
  {
   "cell_type": "markdown",
   "id": "507b07fe-a2d3-4fa2-a935-89272ce9b212",
   "metadata": {},
   "source": [
    "#### Q5. Can we create an instance of an abstract class? Explain your answer."
   ]
  },
  {
   "cell_type": "markdown",
   "id": "45f0c533-3916-4e41-b346-7b5b0532b346",
   "metadata": {},
   "source": [
    "#### Ans:- No, you cannot create an instance of an abstract class in Python. An abstract class is a class that is meant to be subclassed by other classes, and it typically contains one or more abstract methods – methods that are declared in the abstract class but do not have any implementation. Abstract classes are used to define a common interface or contract that derived classes are expected to fulfill.\n",
    "\n",
    "#### In Python, you define an abstract class using the abc module and the ABC (Abstract Base Class) metaclass. The abstractmethod decorator is used to mark methods as abstract. Attempting to create an instance of an abstract class will result in a TypeError.\n",
    "\n",
    "#### Here's an example to illustrate this:"
   ]
  },
  {
   "cell_type": "code",
   "execution_count": 7,
   "id": "6f5b9d4a-59b5-4021-b8f4-ea94ce0056e9",
   "metadata": {},
   "outputs": [
    {
     "name": "stdout",
     "output_type": "stream",
     "text": [
      "Abstract method implemented.\n"
     ]
    }
   ],
   "source": [
    "from abc import ABC, abstractmethod\n",
    "\n",
    "class AbstractClass(ABC):\n",
    "    @abstractmethod\n",
    "    def abstract_method(self):\n",
    "        pass\n",
    "\n",
    "class ConcreteClass(AbstractClass):\n",
    "    def abstract_method(self):\n",
    "        print(\"Abstract method implemented.\")\n",
    "\n",
    "# Attempt to create an instance of an abstract class (this will raise an error)\n",
    "# instance = AbstractClass()  # Uncommenting this line will result in a TypeError\n",
    "\n",
    "# Create an instance of a concrete class\n",
    "instance = ConcreteClass()\n",
    "instance.abstract_method()  # Output: Abstract method implemented.\n"
   ]
  },
  {
   "cell_type": "code",
   "execution_count": null,
   "id": "48a877ef-a910-4e91-a3e5-58986a7154ab",
   "metadata": {},
   "outputs": [],
   "source": []
  }
 ],
 "metadata": {
  "kernelspec": {
   "display_name": "Python 3 (ipykernel)",
   "language": "python",
   "name": "python3"
  },
  "language_info": {
   "codemirror_mode": {
    "name": "ipython",
    "version": 3
   },
   "file_extension": ".py",
   "mimetype": "text/x-python",
   "name": "python",
   "nbconvert_exporter": "python",
   "pygments_lexer": "ipython3",
   "version": "3.10.8"
  }
 },
 "nbformat": 4,
 "nbformat_minor": 5
}
